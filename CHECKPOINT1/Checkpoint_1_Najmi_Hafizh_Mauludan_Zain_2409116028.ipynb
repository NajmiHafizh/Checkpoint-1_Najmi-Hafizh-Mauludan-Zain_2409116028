{
  "nbformat": 4,
  "nbformat_minor": 0,
  "metadata": {
    "colab": {
      "provenance": []
    },
    "kernelspec": {
      "name": "python3",
      "display_name": "Python 3"
    },
    "language_info": {
      "name": "python"
    }
  },
  "cells": [
    {
      "cell_type": "markdown",
      "source": [
        "# BUSINESS UNDERSTANDING\n"
      ],
      "metadata": {
        "id": "TyjMrRgJqhdf"
      }
    },
    {
      "cell_type": "markdown",
      "source": [
        "# Business Objactive"
      ],
      "metadata": {
        "id": "V3VghARqsEu6"
      }
    },
    {
      "cell_type": "markdown",
      "source": [
        "Tidur yang berkualitas sangat penting untuk kesehatan dan produktivitas seseorang. Namun, banyak faktor gaya hidup yang dapat mempengaruhi kualitas tidur, seperti tingkat aktivitas fisik, tingkat stres, dan kebiasaan sehari-hari. Tujuan utama proyek ini adalah menganalisis faktor-faktor tersebut untuk memberikan rekomendasi guna meningkatkan kualitas tidur."
      ],
      "metadata": {
        "id": "zLGYYeQ6smr-"
      }
    },
    {
      "cell_type": "markdown",
      "source": [
        "# Assess Situation"
      ],
      "metadata": {
        "id": "8ipf4Hbfs6a9"
      }
    },
    {
      "cell_type": "markdown",
      "source": [
        "Situasi saat ini menunjukkan bahwa banyak individu mengalami gangguan tidur akibat pola hidup yang kurang sehat. Faktor seperti aktivitas fisik yang rendah, stres tinggi, dan pola makan yang tidak teratur dapat mempengaruhi kualitas tidur seseorang. Dengan memahami pola ini, kita dapat memberikan wawasan tentang bagaimana gaya hidup berhubungan dengan tidur yang lebih baik."
      ],
      "metadata": {
        "id": "ApMme3PhtAq-"
      }
    },
    {
      "cell_type": "markdown",
      "source": [
        "# Data Mining Goals"
      ],
      "metadata": {
        "id": "dOjiMcIduNzl"
      }
    },
    {
      "cell_type": "markdown",
      "source": [
        "Mengidentifikasi hubungan antara kualitas tidur dan faktor gaya hidup seperti tingkat aktivitas fisik, tingkat stres, dan jumlah langkah harian. Tujuan ini bertujuan untuk menemukan pola dan wawasan yang dapat digunakan untuk meningkatkan kebiasaan tidur yang lebih baik."
      ],
      "metadata": {
        "id": "te2cuaMHuT0V"
      }
    },
    {
      "cell_type": "markdown",
      "source": [
        "# Project Plan"
      ],
      "metadata": {
        "id": "1io7Mld0usYF"
      }
    },
    {
      "cell_type": "markdown",
      "source": [
        "1.Identifikasi Masalah\n",
        "\n",
        "- Menentukan tujuan analisis: Apakah ingin mengetahui faktor yang mempengaruhi kualitas tidur? Atau ingin mengidentifikasi pola tertentu pada individu dengan gangguan tidur?\n",
        "\n",
        "- Meninjau apakah ada hubungan antara faktor gaya hidup dan kesehatan tidur.\n",
        "\n",
        "2.Pengumpulan dan Persiapan Data\n",
        "\n",
        "- Mengecek apakah ada data yang hilang atau anomali.\n",
        "- Melakukan pembersihan data jika diperlukan (misalnya, memisahkan tekanan darah menjadi dua kolom).\n",
        "- Normalisasi atau pengelompokan data jika diperlukan untuk analisis lebih lanjut.\n",
        "\n",
        "3.Analisis dan Pemodelan\n",
        "\n",
        "- Menghitung korelasi antara variabel (misalnya, apakah tingkat stres berhubungan dengan kualitas tidur?).\n",
        "- Melakukan eksplorasi data visual untuk melihat pola dalam data.\n",
        "- Jika ingin prediksi, bisa menggunakan model seperti regresi atau klasifikasi.\n",
        "\n",
        "4.Interpretasi Hasil dan Rekomendasi\n",
        "\n",
        "- Menyimpulkan faktor utama yang berkontribusi terhadap kualitas tidur.\n",
        "- Memberikan rekomendasi berbasis data, misalnya: \"Meningkatkan aktivitas fisik dapat meningkatkan kualitas tidur.\"\n",
        "\n",
        "5.Implementasi dan Evaluasi\n",
        "\n",
        "- Jika hasil analisis digunakan untuk membuat sistem rekomendasi atau intervensi kesehatan, maka perlu diuji keefektifannya.\n",
        "- Mengevaluasi model atau hasil rekomendasi dengan data baru."
      ],
      "metadata": {
        "id": "y5fTFG_RuwfS"
      }
    }
  ]
}
